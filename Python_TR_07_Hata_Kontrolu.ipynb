{
 "cells": [
  {
   "cell_type": "markdown",
   "metadata": {},
   "source": [
    "## TEMEL PYTHON NOTLARI\n",
    "#### Ugur URESIN, Yapay Zeka Mühendisi | Veri Bilimci\n",
    "#### Mail: uresin.ugur@gmail.com"
   ]
  },
  {
   "cell_type": "markdown",
   "metadata": {},
   "source": [
    "### 07. Hata Kontrolü"
   ]
  },
  {
   "cell_type": "markdown",
   "metadata": {},
   "source": [
    "https://www.tutorialsteacher.com/python/error-types-in-python"
   ]
  },
  {
   "cell_type": "markdown",
   "metadata": {},
   "source": [
    "**Hata Türleri**  \n",
    "  \n",
    "1. Sözdizimi Hatası (Syntax Error)\n",
    "2. Mantık Hatası (Logic Error)"
   ]
  },
  {
   "cell_type": "markdown",
   "metadata": {},
   "source": [
    "#### Sözdizimi Hatası (Syntax Error)"
   ]
  },
  {
   "cell_type": "code",
   "execution_count": 24,
   "metadata": {},
   "outputs": [
    {
     "ename": "NameError",
     "evalue": "name 'primt' is not defined",
     "output_type": "error",
     "traceback": [
      "\u001b[0;31m---------------------------------------------------------------------------\u001b[0m",
      "\u001b[0;31mNameError\u001b[0m                                 Traceback (most recent call last)",
      "\u001b[0;32m<ipython-input-24-ed4d8bba6f3d>\u001b[0m in \u001b[0;36m<module>\u001b[0;34m\u001b[0m\n\u001b[1;32m      1\u001b[0m \u001b[0;31m# ÖRNEK-1\u001b[0m\u001b[0;34m\u001b[0m\u001b[0;34m\u001b[0m\u001b[0;34m\u001b[0m\u001b[0m\n\u001b[0;32m----> 2\u001b[0;31m \u001b[0mprimt\u001b[0m\u001b[0;34m(\u001b[0m\u001b[0;34m'Ali'\u001b[0m\u001b[0;34m)\u001b[0m\u001b[0;34m\u001b[0m\u001b[0;34m\u001b[0m\u001b[0m\n\u001b[0m",
      "\u001b[0;31mNameError\u001b[0m: name 'primt' is not defined"
     ]
    }
   ],
   "source": [
    "# ÖRNEK-1\n",
    "primt('Ali')"
   ]
  },
  {
   "cell_type": "code",
   "execution_count": 25,
   "metadata": {},
   "outputs": [
    {
     "name": "stdout",
     "output_type": "stream",
     "text": [
      "Ali\n"
     ]
    }
   ],
   "source": [
    "print('Ali')"
   ]
  },
  {
   "cell_type": "code",
   "execution_count": 26,
   "metadata": {},
   "outputs": [
    {
     "ename": "SyntaxError",
     "evalue": "invalid syntax (<ipython-input-26-aabc8a18ea56>, line 2)",
     "output_type": "error",
     "traceback": [
      "\u001b[0;36m  File \u001b[0;32m\"<ipython-input-26-aabc8a18ea56>\"\u001b[0;36m, line \u001b[0;32m2\u001b[0m\n\u001b[0;31m    for i in range(3)\u001b[0m\n\u001b[0m                     ^\u001b[0m\n\u001b[0;31mSyntaxError\u001b[0m\u001b[0;31m:\u001b[0m invalid syntax\n"
     ]
    }
   ],
   "source": [
    "# ÖRNEK-2\n",
    "for i in range(3)\n",
    "    print(i)"
   ]
  },
  {
   "cell_type": "code",
   "execution_count": 27,
   "metadata": {},
   "outputs": [
    {
     "name": "stdout",
     "output_type": "stream",
     "text": [
      "0\n",
      "1\n",
      "2\n"
     ]
    }
   ],
   "source": [
    "for i in range(3):\n",
    "    print(i)"
   ]
  },
  {
   "cell_type": "code",
   "execution_count": 28,
   "metadata": {},
   "outputs": [
    {
     "ename": "IndentationError",
     "evalue": "expected an indented block (<ipython-input-28-6eca11a7c414>, line 3)",
     "output_type": "error",
     "traceback": [
      "\u001b[0;36m  File \u001b[0;32m\"<ipython-input-28-6eca11a7c414>\"\u001b[0;36m, line \u001b[0;32m3\u001b[0m\n\u001b[0;31m    print(i)\u001b[0m\n\u001b[0m    ^\u001b[0m\n\u001b[0;31mIndentationError\u001b[0m\u001b[0;31m:\u001b[0m expected an indented block\n"
     ]
    }
   ],
   "source": [
    "# ÖRNEK-3\n",
    "for i in range(3):\n",
    "print(i)"
   ]
  },
  {
   "cell_type": "markdown",
   "metadata": {},
   "source": [
    "#### Mantık Hatası (Logic Error)"
   ]
  },
  {
   "cell_type": "code",
   "execution_count": 30,
   "metadata": {},
   "outputs": [
    {
     "name": "stdout",
     "output_type": "stream",
     "text": [
      "-0.2\n",
      "-0.25\n",
      "-0.3333333333333333\n",
      "-0.5\n",
      "-1.0\n"
     ]
    },
    {
     "ename": "ZeroDivisionError",
     "evalue": "division by zero",
     "output_type": "error",
     "traceback": [
      "\u001b[0;31m---------------------------------------------------------------------------\u001b[0m",
      "\u001b[0;31mZeroDivisionError\u001b[0m                         Traceback (most recent call last)",
      "\u001b[0;32m<ipython-input-30-e50a5b3d035b>\u001b[0m in \u001b[0;36m<module>\u001b[0;34m\u001b[0m\n\u001b[1;32m      1\u001b[0m \u001b[0;31m# ÖRNEK-1\u001b[0m\u001b[0;34m\u001b[0m\u001b[0;34m\u001b[0m\u001b[0;34m\u001b[0m\u001b[0m\n\u001b[1;32m      2\u001b[0m \u001b[0;32mfor\u001b[0m \u001b[0mi\u001b[0m \u001b[0;32min\u001b[0m \u001b[0mrange\u001b[0m\u001b[0;34m(\u001b[0m\u001b[0;34m-\u001b[0m\u001b[0;36m5\u001b[0m\u001b[0;34m,\u001b[0m\u001b[0;36m5\u001b[0m\u001b[0;34m,\u001b[0m\u001b[0;36m1\u001b[0m\u001b[0;34m)\u001b[0m\u001b[0;34m:\u001b[0m\u001b[0;34m\u001b[0m\u001b[0;34m\u001b[0m\u001b[0m\n\u001b[0;32m----> 3\u001b[0;31m     \u001b[0mreverse\u001b[0m \u001b[0;34m=\u001b[0m \u001b[0;36m1\u001b[0m\u001b[0;34m/\u001b[0m\u001b[0mi\u001b[0m\u001b[0;34m\u001b[0m\u001b[0;34m\u001b[0m\u001b[0m\n\u001b[0m\u001b[1;32m      4\u001b[0m     \u001b[0mprint\u001b[0m\u001b[0;34m(\u001b[0m\u001b[0mreverse\u001b[0m\u001b[0;34m)\u001b[0m\u001b[0;34m\u001b[0m\u001b[0;34m\u001b[0m\u001b[0m\n",
      "\u001b[0;31mZeroDivisionError\u001b[0m: division by zero"
     ]
    }
   ],
   "source": [
    "# ÖRNEK-1\n",
    "for i in range(-5,5,1):\n",
    "    reverse = 1/i\n",
    "    print(reverse)"
   ]
  },
  {
   "cell_type": "code",
   "execution_count": 33,
   "metadata": {},
   "outputs": [
    {
     "name": "stdout",
     "output_type": "stream",
     "text": [
      "Lütfen bir sayı giriniz: 10\n"
     ]
    },
    {
     "ename": "TypeError",
     "evalue": "not all arguments converted during string formatting",
     "output_type": "error",
     "traceback": [
      "\u001b[0;31m---------------------------------------------------------------------------\u001b[0m",
      "\u001b[0;31mTypeError\u001b[0m                                 Traceback (most recent call last)",
      "\u001b[0;32m<ipython-input-33-fb3004c69329>\u001b[0m in \u001b[0;36m<module>\u001b[0;34m\u001b[0m\n\u001b[1;32m      2\u001b[0m \u001b[0mx\u001b[0m \u001b[0;34m=\u001b[0m \u001b[0minput\u001b[0m\u001b[0;34m(\u001b[0m\u001b[0;34m\"Lütfen bir sayı giriniz: \"\u001b[0m\u001b[0;34m)\u001b[0m\u001b[0;34m\u001b[0m\u001b[0;34m\u001b[0m\u001b[0m\n\u001b[1;32m      3\u001b[0m \u001b[0;34m\u001b[0m\u001b[0m\n\u001b[0;32m----> 4\u001b[0;31m \u001b[0;32mif\u001b[0m\u001b[0;34m(\u001b[0m\u001b[0mx\u001b[0m\u001b[0;34m%\u001b[0m\u001b[0;36m2\u001b[0m\u001b[0;34m==\u001b[0m\u001b[0;36m0\u001b[0m\u001b[0;34m)\u001b[0m\u001b[0;34m:\u001b[0m\u001b[0;34m\u001b[0m\u001b[0;34m\u001b[0m\u001b[0m\n\u001b[0m\u001b[1;32m      5\u001b[0m     \u001b[0mprint\u001b[0m\u001b[0;34m(\u001b[0m\u001b[0;34m\"Girilen sayı,çift sayıdır!\"\u001b[0m\u001b[0;34m)\u001b[0m\u001b[0;34m\u001b[0m\u001b[0;34m\u001b[0m\u001b[0m\n\u001b[1;32m      6\u001b[0m \u001b[0;32melse\u001b[0m\u001b[0;34m:\u001b[0m\u001b[0;34m\u001b[0m\u001b[0;34m\u001b[0m\u001b[0m\n",
      "\u001b[0;31mTypeError\u001b[0m: not all arguments converted during string formatting"
     ]
    }
   ],
   "source": [
    "# ÖRNEK-2\n",
    "x = input(\"Lütfen bir sayı giriniz: \")\n",
    "\n",
    "if(x%2==0):\n",
    "    print(\"Girilen sayı,çift sayıdır!\")\n",
    "else:\n",
    "    print(\"Girilen sayı, tek sayıdır!\")"
   ]
  },
  {
   "cell_type": "code",
   "execution_count": 34,
   "metadata": {},
   "outputs": [
    {
     "name": "stdout",
     "output_type": "stream",
     "text": [
      "Lütfen bir sayı giriniz: 10\n",
      "Girilen sayı,çift sayıdır!\n"
     ]
    }
   ],
   "source": [
    "x = input(\"Lütfen bir sayı giriniz: \")\n",
    "\n",
    "if(int(x)%2==0):\n",
    "    print(\"Girilen sayı,çift sayıdır!\")\n",
    "else:\n",
    "    print(\"Girilen sayı, tek sayıdır!\")"
   ]
  },
  {
   "cell_type": "code",
   "execution_count": 35,
   "metadata": {},
   "outputs": [
    {
     "name": "stdout",
     "output_type": "stream",
     "text": [
      "Lütfen bir sayı giriniz: 5.5\n"
     ]
    },
    {
     "ename": "ValueError",
     "evalue": "invalid literal for int() with base 10: '5.5'",
     "output_type": "error",
     "traceback": [
      "\u001b[0;31m---------------------------------------------------------------------------\u001b[0m",
      "\u001b[0;31mValueError\u001b[0m                                Traceback (most recent call last)",
      "\u001b[0;32m<ipython-input-35-8f427ac4b80c>\u001b[0m in \u001b[0;36m<module>\u001b[0;34m\u001b[0m\n\u001b[1;32m      1\u001b[0m \u001b[0mx\u001b[0m \u001b[0;34m=\u001b[0m \u001b[0minput\u001b[0m\u001b[0;34m(\u001b[0m\u001b[0;34m\"Lütfen bir sayı giriniz: \"\u001b[0m\u001b[0;34m)\u001b[0m\u001b[0;34m\u001b[0m\u001b[0;34m\u001b[0m\u001b[0m\n\u001b[1;32m      2\u001b[0m \u001b[0;34m\u001b[0m\u001b[0m\n\u001b[0;32m----> 3\u001b[0;31m \u001b[0;32mif\u001b[0m\u001b[0;34m(\u001b[0m\u001b[0mint\u001b[0m\u001b[0;34m(\u001b[0m\u001b[0mx\u001b[0m\u001b[0;34m)\u001b[0m\u001b[0;34m%\u001b[0m\u001b[0;36m2\u001b[0m\u001b[0;34m==\u001b[0m\u001b[0;36m0\u001b[0m\u001b[0;34m)\u001b[0m\u001b[0;34m:\u001b[0m\u001b[0;34m\u001b[0m\u001b[0;34m\u001b[0m\u001b[0m\n\u001b[0m\u001b[1;32m      4\u001b[0m     \u001b[0mprint\u001b[0m\u001b[0;34m(\u001b[0m\u001b[0;34m\"Girilen sayı,çift sayıdır!\"\u001b[0m\u001b[0;34m)\u001b[0m\u001b[0;34m\u001b[0m\u001b[0;34m\u001b[0m\u001b[0m\n\u001b[1;32m      5\u001b[0m \u001b[0;32melse\u001b[0m\u001b[0;34m:\u001b[0m\u001b[0;34m\u001b[0m\u001b[0;34m\u001b[0m\u001b[0m\n",
      "\u001b[0;31mValueError\u001b[0m: invalid literal for int() with base 10: '5.5'"
     ]
    }
   ],
   "source": [
    "x = input(\"Lütfen bir sayı giriniz: \")\n",
    "\n",
    "if(int(x)%2==0):\n",
    "    print(\"Girilen sayı,çift sayıdır!\")\n",
    "else:\n",
    "    print(\"Girilen sayı, tek sayıdır!\")"
   ]
  },
  {
   "cell_type": "markdown",
   "metadata": {},
   "source": [
    "#### Hata Yakalama (Try/Except)"
   ]
  },
  {
   "cell_type": "markdown",
   "metadata": {},
   "source": [
    "Hata oluşma ihtimali olan kodlar -> **try** bloğu içerisinde yazılır  \n",
    "Hata oluşması durumunda ise program -> **expect** bloğu içerisinden çalışmaya devam eder "
   ]
  },
  {
   "cell_type": "code",
   "execution_count": 38,
   "metadata": {},
   "outputs": [
    {
     "name": "stdout",
     "output_type": "stream",
     "text": [
      "Vize notunu giriniz: 40\n",
      "Final notunu giriniz: 90\n",
      "Ortalama notunuz:  70.0\n"
     ]
    }
   ],
   "source": [
    "#ÖRNEK-1\n",
    "try:\n",
    "    vize = int(input(\"Vize notunu giriniz: \"))\n",
    "    final = int(input(\"Final notunu giriniz: \"))\n",
    "    ortalama = vize*0.4 + final*0.6\n",
    "    print(\"Ortalama notunuz: \",ortalama)\n",
    "except:\n",
    "    print(\"Hata! Yanlış bir değer girdiniz!\")"
   ]
  },
  {
   "cell_type": "code",
   "execution_count": 39,
   "metadata": {},
   "outputs": [
    {
     "name": "stdout",
     "output_type": "stream",
     "text": [
      "Vize notunu giriniz: 40\n",
      "Final notunu giriniz: 90,\n",
      "Hata! Yanlış bir değer girdiniz!\n"
     ]
    }
   ],
   "source": [
    "try:\n",
    "    vize = int(input(\"Vize notunu giriniz: \"))\n",
    "    final = int(input(\"Final notunu giriniz: \"))\n",
    "    ortalama = vize*0.4 + final*0.6\n",
    "    print(\"Ortalama notunuz: \",ortalama)\n",
    "except:\n",
    "    print(\"Bir hata oluştu!\")"
   ]
  },
  {
   "cell_type": "markdown",
   "metadata": {},
   "source": [
    "#### Hata Kodlarını Kullanma"
   ]
  },
  {
   "cell_type": "code",
   "execution_count": 45,
   "metadata": {},
   "outputs": [
    {
     "ename": "ZeroDivisionError",
     "evalue": "division by zero",
     "output_type": "error",
     "traceback": [
      "\u001b[0;31m---------------------------------------------------------------------------\u001b[0m",
      "\u001b[0;31mZeroDivisionError\u001b[0m                         Traceback (most recent call last)",
      "\u001b[0;32m<ipython-input-45-9e1622b385b6>\u001b[0m in \u001b[0;36m<module>\u001b[0;34m\u001b[0m\n\u001b[0;32m----> 1\u001b[0;31m \u001b[0;36m1\u001b[0m\u001b[0;34m/\u001b[0m\u001b[0;36m0\u001b[0m\u001b[0;34m\u001b[0m\u001b[0;34m\u001b[0m\u001b[0m\n\u001b[0m",
      "\u001b[0;31mZeroDivisionError\u001b[0m: division by zero"
     ]
    }
   ],
   "source": [
    "1/0"
   ]
  },
  {
   "cell_type": "code",
   "execution_count": 47,
   "metadata": {},
   "outputs": [
    {
     "name": "stdout",
     "output_type": "stream",
     "text": [
      "Tamsayı değer giriniz: beş\n"
     ]
    },
    {
     "ename": "ValueError",
     "evalue": "invalid literal for int() with base 10: 'beş'",
     "output_type": "error",
     "traceback": [
      "\u001b[0;31m---------------------------------------------------------------------------\u001b[0m",
      "\u001b[0;31mValueError\u001b[0m                                Traceback (most recent call last)",
      "\u001b[0;32m<ipython-input-47-c6333a2a66a0>\u001b[0m in \u001b[0;36m<module>\u001b[0;34m\u001b[0m\n\u001b[0;32m----> 1\u001b[0;31m \u001b[0mint\u001b[0m\u001b[0;34m(\u001b[0m\u001b[0minput\u001b[0m\u001b[0;34m(\u001b[0m\u001b[0;34m\"Tamsayı değer giriniz: \"\u001b[0m\u001b[0;34m)\u001b[0m\u001b[0;34m)\u001b[0m\u001b[0;34m\u001b[0m\u001b[0;34m\u001b[0m\u001b[0m\n\u001b[0m",
      "\u001b[0;31mValueError\u001b[0m: invalid literal for int() with base 10: 'beş'"
     ]
    }
   ],
   "source": [
    "int(input(\"Tamsayı değer giriniz: \"))"
   ]
  },
  {
   "cell_type": "code",
   "execution_count": 52,
   "metadata": {},
   "outputs": [
    {
     "name": "stdout",
     "output_type": "stream",
     "text": [
      "Öğrenci notunu giriniz: 50\n",
      "Sınıf ortalamasını giriniz: 20\n",
      "Öğrencinin sınıfa göre başarı oranı:  2.5\n"
     ]
    }
   ],
   "source": [
    "# ÖRNEK-1\n",
    "try:\n",
    "    ogrenci_notu = int(input(\"Öğrenci notunu giriniz: \"))\n",
    "    sinif_ortalamasi = int(input(\"Sınıf ortalamasını giriniz: \"))\n",
    "    oran = ogrenci_notu / sinif_ortalamasi\n",
    "    print(\"Öğrencinin sınıfa göre başarı oranı: \",oran)\n",
    "except ValueError:\n",
    "    print(\"Geçersiz bir sayı girildi!\")\n",
    "except ZeroDivisionError:\n",
    "    print(\"Öğrenci notu sıfır olamaz!\")"
   ]
  },
  {
   "cell_type": "code",
   "execution_count": 43,
   "metadata": {},
   "outputs": [
    {
     "name": "stdout",
     "output_type": "stream",
     "text": [
      "Öğrenci notunu giriniz: 0\n",
      "Sınıf ortalamasını giriniz: 50\n",
      "Öğrenci notu sıfır olamaz!\n"
     ]
    }
   ],
   "source": [
    "try:\n",
    "    ogrenci_notu = int(input(\"Öğrenci notunu giriniz: \"))\n",
    "    sinif_ortalamasi = int(input(\"Sınıf ortalamasını giriniz: \"))\n",
    "    oran = ogrenci_notu / sinif_ortalamasi\n",
    "    print(\"Öğrencinin sınıfa göre başarı oranı: \",oran)\n",
    "except ValueError:\n",
    "    print(\"Geçersiz bir sayı girildi!\")\n",
    "except ZeroDivisionError:\n",
    "    print(\"Öğrenci notu sıfır olamaz!\")"
   ]
  },
  {
   "cell_type": "code",
   "execution_count": 50,
   "metadata": {},
   "outputs": [
    {
     "ename": "SyntaxError",
     "evalue": "default 'except:' must be last (<ipython-input-50-c296298cd8c8>, line 5)",
     "output_type": "error",
     "traceback": [
      "\u001b[0;36m  File \u001b[0;32m\"<ipython-input-50-c296298cd8c8>\"\u001b[0;36m, line \u001b[0;32m5\u001b[0m\n\u001b[0;31m    print(\"Öğrencinin sınıfa göre başarı oranı: \",oran)\u001b[0m\n\u001b[0m    ^\u001b[0m\n\u001b[0;31mSyntaxError\u001b[0m\u001b[0;31m:\u001b[0m default 'except:' must be last\n"
     ]
    }
   ],
   "source": [
    "try:\n",
    "    ogrenci_notu = int(input(\"Öğrenci notunu giriniz: \"))\n",
    "    sinif_ortalamasi = int(input(\"Sınıf ortalamasını giriniz: \"))\n",
    "    oran = ogrenci_notu / sinif_ortalamasi\n",
    "    print(\"Öğrencinin sınıfa göre başarı oranı: \",oran)\n",
    "except:\n",
    "    print(\"Bilinmeyen bir hata oluştu!\")\n",
    "except ValueError:\n",
    "    print(\"Geçersiz bir sayı girildi!\")\n",
    "except ZeroDivisionError:\n",
    "    print(\"Öğrenci notu sıfır olamaz!\")"
   ]
  },
  {
   "cell_type": "code",
   "execution_count": 51,
   "metadata": {},
   "outputs": [
    {
     "name": "stdout",
     "output_type": "stream",
     "text": [
      "Öğrenci notunu giriniz: 50\n",
      "Sınıf ortalamasını giriniz: 60\n",
      "Öğrencinin sınıfa göre başarı oranı:  1.2\n"
     ]
    }
   ],
   "source": [
    "try:\n",
    "    ogrenci_notu = int(input(\"Öğrenci notunu giriniz: \"))\n",
    "    sinif_ortalamasi = int(input(\"Sınıf ortalamasını giriniz: \"))\n",
    "    oran = ogrenci_notu / sinif_ortalamasi\n",
    "    print(\"Öğrencinin sınıfa göre başarı oranı: \",oran)\n",
    "except ValueError:\n",
    "    print(\"Geçersiz bir sayı girildi!\")\n",
    "except ZeroDivisionError:\n",
    "    print(\"Öğrenci notu sıfır olamaz!\")\n",
    "except:\n",
    "    print(\"Bilinmeyen bir hata oluştu!\")"
   ]
  },
  {
   "cell_type": "markdown",
   "metadata": {},
   "source": [
    "#### Finally Bloğu"
   ]
  },
  {
   "cell_type": "code",
   "execution_count": 61,
   "metadata": {},
   "outputs": [
    {
     "name": "stdout",
     "output_type": "stream",
     "text": [
      "Öğrenci notunu giriniz: ,\n",
      "Geçersiz bir sayı girildi!\n",
      "Program işlemini bitirdi!\n"
     ]
    }
   ],
   "source": [
    "try:\n",
    "    ogrenci_notu = int(input(\"Öğrenci notunu giriniz: \"))\n",
    "    sinif_ortalamasi = int(input(\"Sınıf ortalamasını giriniz: \"))\n",
    "    oran = ogrenci_notu / sinif_ortalamasi\n",
    "    print(\"Öğrencinin sınıfa göre başarı oranı: \",oran)\n",
    "    print(\"Program işlemini bitirdi!\")\n",
    "except ValueError:\n",
    "    print(\"Geçersiz bir sayı girildi!\")\n",
    "    print(\"Program işlemini bitirdi!\")\n",
    "except ZeroDivisionError:\n",
    "    print(\"Öğrenci notu sıfır olamaz!\")\n",
    "    print(\"Program işlemini bitirdi!\")\n",
    "except:\n",
    "    print(\"Bilinmeyen bir hata oluştu!\")\n",
    "    print(\"Program işlemini bitirdi!\")"
   ]
  },
  {
   "cell_type": "code",
   "execution_count": 63,
   "metadata": {},
   "outputs": [
    {
     "name": "stdout",
     "output_type": "stream",
     "text": [
      "Öğrenci notunu giriniz: 20\n",
      "Sınıf ortalamasını giriniz: 10,\n",
      "Geçersiz bir sayı girildi!\n",
      "Program işlemini bitirdi!\n"
     ]
    }
   ],
   "source": [
    "try:\n",
    "    ogrenci_notu = int(input(\"Öğrenci notunu giriniz: \"))\n",
    "    sinif_ortalamasi = int(input(\"Sınıf ortalamasını giriniz: \"))\n",
    "    oran = ogrenci_notu / sinif_ortalamasi\n",
    "    print(\"Öğrencinin sınıfa göre başarı oranı: \",oran)\n",
    "except ValueError:\n",
    "    print(\"Geçersiz bir sayı girildi!\")\n",
    "except ZeroDivisionError:\n",
    "    print(\"Öğrenci notu sıfır olamaz!\")\n",
    "except:\n",
    "    print(\"Bilinmeyen bir hata oluştu!\")\n",
    "finally:\n",
    "    print(\"Program işlemini bitirdi!\")"
   ]
  },
  {
   "cell_type": "markdown",
   "metadata": {},
   "source": [
    "#### Hata Tanımlama (raise)"
   ]
  },
  {
   "cell_type": "markdown",
   "metadata": {},
   "source": [
    "Python'un hata vermediği, ancak bizim hata olarak gördüğümüz durumları, özel olarak tanımlayabiliriz!"
   ]
  },
  {
   "cell_type": "code",
   "execution_count": 71,
   "metadata": {},
   "outputs": [
    {
     "name": "stdout",
     "output_type": "stream",
     "text": [
      "Öğrenci notunu giriniz: 105\n",
      "Sınıf ortalamasını giriniz: 20\n",
      "Program işlemini bitirdi!\n"
     ]
    },
    {
     "ename": "Exception",
     "evalue": "Öğrencinin notu 100'den büyük olamaz!",
     "output_type": "error",
     "traceback": [
      "\u001b[0;31m---------------------------------------------------------------------------\u001b[0m",
      "\u001b[0;31mException\u001b[0m                                 Traceback (most recent call last)",
      "\u001b[0;32m<ipython-input-71-30d064991776>\u001b[0m in \u001b[0;36m<module>\u001b[0;34m\u001b[0m\n\u001b[1;32m      4\u001b[0m     \u001b[0moran\u001b[0m \u001b[0;34m=\u001b[0m \u001b[0mogrenci_notu\u001b[0m \u001b[0;34m/\u001b[0m \u001b[0msinif_ortalamasi\u001b[0m\u001b[0;34m\u001b[0m\u001b[0;34m\u001b[0m\u001b[0m\n\u001b[1;32m      5\u001b[0m     \u001b[0;32mif\u001b[0m \u001b[0mogrenci_notu\u001b[0m \u001b[0;34m>\u001b[0m \u001b[0;36m100\u001b[0m\u001b[0;34m:\u001b[0m\u001b[0;34m\u001b[0m\u001b[0;34m\u001b[0m\u001b[0m\n\u001b[0;32m----> 6\u001b[0;31m         \u001b[0;32mraise\u001b[0m \u001b[0mException\u001b[0m\u001b[0;34m(\u001b[0m\u001b[0;34m\"Öğrencinin notu 100'den büyük olamaz!\"\u001b[0m\u001b[0;34m)\u001b[0m\u001b[0;34m\u001b[0m\u001b[0;34m\u001b[0m\u001b[0m\n\u001b[0m\u001b[1;32m      7\u001b[0m     \u001b[0mprint\u001b[0m\u001b[0;34m(\u001b[0m\u001b[0;34m\"Öğrencinin sınıfa göre başarı oranı: \"\u001b[0m\u001b[0;34m,\u001b[0m\u001b[0moran\u001b[0m\u001b[0;34m)\u001b[0m\u001b[0;34m\u001b[0m\u001b[0;34m\u001b[0m\u001b[0m\n\u001b[1;32m      8\u001b[0m \u001b[0;32mexcept\u001b[0m \u001b[0mValueError\u001b[0m\u001b[0;34m:\u001b[0m\u001b[0;34m\u001b[0m\u001b[0;34m\u001b[0m\u001b[0m\n",
      "\u001b[0;31mException\u001b[0m: Öğrencinin notu 100'den büyük olamaz!"
     ]
    }
   ],
   "source": [
    "try:\n",
    "    ogrenci_notu = int(input(\"Öğrenci notunu giriniz: \"))\n",
    "    sinif_ortalamasi = int(input(\"Sınıf ortalamasını giriniz: \"))\n",
    "    oran = ogrenci_notu / sinif_ortalamasi\n",
    "    if ogrenci_notu > 100:\n",
    "        raise Exception(\"Öğrencinin notu 100'den büyük olamaz!\")\n",
    "    print(\"Öğrencinin sınıfa göre başarı oranı: \",oran)\n",
    "except ValueError:\n",
    "    print(\"Geçersiz bir sayı girildi!\")\n",
    "except ZeroDivisionError:\n",
    "    print(\"Öğrenci notu sıfır olamaz!\")\n",
    "finally:\n",
    "    print(\"Program işlemini bitirdi!\")"
   ]
  },
  {
   "cell_type": "code",
   "execution_count": 72,
   "metadata": {},
   "outputs": [
    {
     "name": "stdout",
     "output_type": "stream",
     "text": [
      "Bir pozitif tamsayı giriniz0\n"
     ]
    },
    {
     "ename": "Exception",
     "evalue": "Pozitif olmayan bir değer girildi!",
     "output_type": "error",
     "traceback": [
      "\u001b[0;31m---------------------------------------------------------------------------\u001b[0m",
      "\u001b[0;31mException\u001b[0m                                 Traceback (most recent call last)",
      "\u001b[0;32m<ipython-input-72-e709dd46ac01>\u001b[0m in \u001b[0;36m<module>\u001b[0;34m\u001b[0m\n\u001b[1;32m      1\u001b[0m \u001b[0ma\u001b[0m \u001b[0;34m=\u001b[0m \u001b[0mint\u001b[0m\u001b[0;34m(\u001b[0m\u001b[0minput\u001b[0m\u001b[0;34m(\u001b[0m\u001b[0;34m\"Bir pozitif tamsayı giriniz\"\u001b[0m\u001b[0;34m)\u001b[0m\u001b[0;34m)\u001b[0m\u001b[0;34m\u001b[0m\u001b[0;34m\u001b[0m\u001b[0m\n\u001b[1;32m      2\u001b[0m \u001b[0;32mif\u001b[0m \u001b[0ma\u001b[0m \u001b[0;34m<=\u001b[0m \u001b[0;36m0\u001b[0m\u001b[0;34m:\u001b[0m\u001b[0;34m\u001b[0m\u001b[0;34m\u001b[0m\u001b[0m\n\u001b[0;32m----> 3\u001b[0;31m     \u001b[0;32mraise\u001b[0m \u001b[0mException\u001b[0m\u001b[0;34m(\u001b[0m\u001b[0;34m\"Pozitif olmayan bir değer girildi!\"\u001b[0m\u001b[0;34m)\u001b[0m\u001b[0;34m\u001b[0m\u001b[0;34m\u001b[0m\u001b[0m\n\u001b[0m",
      "\u001b[0;31mException\u001b[0m: Pozitif olmayan bir değer girildi!"
     ]
    }
   ],
   "source": [
    "a = int(input(\"Bir pozitif tamsayı giriniz\"))\n",
    "if a <= 0:\n",
    "    raise Exception(\"Pozitif olmayan bir değer girildi!\")"
   ]
  },
  {
   "cell_type": "markdown",
   "metadata": {},
   "source": [
    "#### İddia Tanımlama (assert)"
   ]
  },
  {
   "cell_type": "code",
   "execution_count": 73,
   "metadata": {},
   "outputs": [
    {
     "name": "stdout",
     "output_type": "stream",
     "text": [
      "Programı çalıştırmak için şifreyi giriniz: 123\n"
     ]
    },
    {
     "ename": "AssertionError",
     "evalue": "",
     "output_type": "error",
     "traceback": [
      "\u001b[0;31m---------------------------------------------------------------------------\u001b[0m",
      "\u001b[0;31mAssertionError\u001b[0m                            Traceback (most recent call last)",
      "\u001b[0;32m<ipython-input-73-74bd26a0df69>\u001b[0m in \u001b[0;36m<module>\u001b[0;34m\u001b[0m\n\u001b[1;32m      1\u001b[0m \u001b[0msifre\u001b[0m \u001b[0;34m=\u001b[0m \u001b[0minput\u001b[0m\u001b[0;34m(\u001b[0m\u001b[0;34m\"Programı çalıştırmak için şifreyi giriniz: \"\u001b[0m\u001b[0;34m)\u001b[0m\u001b[0;34m\u001b[0m\u001b[0;34m\u001b[0m\u001b[0m\n\u001b[0;32m----> 2\u001b[0;31m \u001b[0;32massert\u001b[0m \u001b[0msifre\u001b[0m \u001b[0;34m==\u001b[0m \u001b[0;34m\"admin123\"\u001b[0m\u001b[0;34m\u001b[0m\u001b[0;34m\u001b[0m\u001b[0m\n\u001b[0m\u001b[1;32m      3\u001b[0m \u001b[0mprint\u001b[0m\u001b[0;34m(\u001b[0m\u001b[0;34m\"Program çalışıyor...\"\u001b[0m\u001b[0;34m)\u001b[0m\u001b[0;34m\u001b[0m\u001b[0;34m\u001b[0m\u001b[0m\n",
      "\u001b[0;31mAssertionError\u001b[0m: "
     ]
    }
   ],
   "source": [
    "sifre = input(\"Programı çalıştırmak için şifreyi giriniz: \")\n",
    "assert sifre == \"admin123\"\n",
    "print(\"Program çalışıyor...\")"
   ]
  },
  {
   "cell_type": "code",
   "execution_count": 74,
   "metadata": {},
   "outputs": [
    {
     "name": "stdout",
     "output_type": "stream",
     "text": [
      "Programı çalıştırmak için şifreyi giriniz: 123\n"
     ]
    },
    {
     "ename": "AssertionError",
     "evalue": "Hatalı şifre girdiniz!",
     "output_type": "error",
     "traceback": [
      "\u001b[0;31m---------------------------------------------------------------------------\u001b[0m",
      "\u001b[0;31mAssertionError\u001b[0m                            Traceback (most recent call last)",
      "\u001b[0;32m<ipython-input-74-c66d252ef75a>\u001b[0m in \u001b[0;36m<module>\u001b[0;34m\u001b[0m\n\u001b[1;32m      1\u001b[0m \u001b[0msifre\u001b[0m \u001b[0;34m=\u001b[0m \u001b[0minput\u001b[0m\u001b[0;34m(\u001b[0m\u001b[0;34m\"Programı çalıştırmak için şifreyi giriniz: \"\u001b[0m\u001b[0;34m)\u001b[0m\u001b[0;34m\u001b[0m\u001b[0;34m\u001b[0m\u001b[0m\n\u001b[0;32m----> 2\u001b[0;31m \u001b[0;32massert\u001b[0m \u001b[0msifre\u001b[0m \u001b[0;34m==\u001b[0m \u001b[0;34m\"admin123\"\u001b[0m\u001b[0;34m,\u001b[0m \u001b[0;34m\"Hatalı şifre girdiniz!\"\u001b[0m\u001b[0;34m\u001b[0m\u001b[0;34m\u001b[0m\u001b[0m\n\u001b[0m\u001b[1;32m      3\u001b[0m \u001b[0mprint\u001b[0m\u001b[0;34m(\u001b[0m\u001b[0;34m\"Program çalışıyor...\"\u001b[0m\u001b[0;34m)\u001b[0m\u001b[0;34m\u001b[0m\u001b[0;34m\u001b[0m\u001b[0m\n",
      "\u001b[0;31mAssertionError\u001b[0m: Hatalı şifre girdiniz!"
     ]
    }
   ],
   "source": [
    "sifre = input(\"Programı çalıştırmak için şifreyi giriniz: \")\n",
    "assert sifre == \"admin123\", \"Hatalı şifre girdiniz!\"\n",
    "print(\"Program çalışıyor...\")"
   ]
  },
  {
   "cell_type": "code",
   "execution_count": null,
   "metadata": {},
   "outputs": [],
   "source": []
  }
 ],
 "metadata": {
  "kernelspec": {
   "display_name": "Python 3",
   "language": "python",
   "name": "python3"
  },
  "language_info": {
   "codemirror_mode": {
    "name": "ipython",
    "version": 3
   },
   "file_extension": ".py",
   "mimetype": "text/x-python",
   "name": "python",
   "nbconvert_exporter": "python",
   "pygments_lexer": "ipython3",
   "version": "3.8.3"
  }
 },
 "nbformat": 4,
 "nbformat_minor": 4
}
