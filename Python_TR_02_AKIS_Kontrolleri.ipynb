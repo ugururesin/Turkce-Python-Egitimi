{
 "cells": [
  {
   "cell_type": "markdown",
   "metadata": {},
   "source": [
    "## TEMEL PYTHON NOTLARI\n",
    "#### Ugur URESIN, Yapay Zeka Mühendisi | Veri Bilimci\n",
    "#### Mail: uresin.ugur@gmail.com"
   ]
  },
  {
   "cell_type": "markdown",
   "metadata": {},
   "source": [
    "## 02. AKIŞ KONTROLLERİ"
   ]
  },
  {
   "cell_type": "markdown",
   "metadata": {},
   "source": [
    "### if Yapısı"
   ]
  },
  {
   "cell_type": "code",
   "execution_count": 45,
   "metadata": {},
   "outputs": [
    {
     "name": "stdout",
     "output_type": "stream",
     "text": [
      "x, 10'dan büyüktür!\n"
     ]
    }
   ],
   "source": [
    "# IF (EĞER) YAPISI\n",
    "x = 11\n",
    "\n",
    "if(x > 10):\n",
    "    print(\"x, 10'dan büyüktür!\")"
   ]
  },
  {
   "cell_type": "code",
   "execution_count": 46,
   "metadata": {},
   "outputs": [
    {
     "name": "stdout",
     "output_type": "stream",
     "text": [
      "isim Ali'dir!\n"
     ]
    }
   ],
   "source": [
    "isim = \"Ali\"\n",
    "if(isim==\"Ali\"):\n",
    "    print(\"isim Ali'dir!\")"
   ]
  },
  {
   "cell_type": "code",
   "execution_count": 47,
   "metadata": {},
   "outputs": [
    {
     "name": "stdout",
     "output_type": "stream",
     "text": [
      "Toplam, 25'den büyüktür!\n"
     ]
    }
   ],
   "source": [
    "a = 10\n",
    "b = 20\n",
    "if((a+b)>=25):\n",
    "    print(\"Toplam, 25'den büyüktür!\")"
   ]
  },
  {
   "cell_type": "code",
   "execution_count": 48,
   "metadata": {},
   "outputs": [
    {
     "name": "stdout",
     "output_type": "stream",
     "text": [
      "Koşul sağlandı!\n"
     ]
    }
   ],
   "source": [
    "a = 10\n",
    "b = 20\n",
    "if(a>=10 & b<=30):\n",
    "    print(\"Koşul sağlandı!\")"
   ]
  },
  {
   "cell_type": "code",
   "execution_count": 49,
   "metadata": {},
   "outputs": [
    {
     "name": "stdout",
     "output_type": "stream",
     "text": [
      "Tebrikler! Final sınavını geçtiniz!\n"
     ]
    }
   ],
   "source": [
    "# IF-ELSE YAPISI\n",
    "final = 70\n",
    "\n",
    "if(final>=50):\n",
    "    print(\"Tebrikler! Final sınavını geçtiniz!\")\n",
    "else:\n",
    "    print(\"Final sınavını geçemediniz!\")\n",
    "        "
   ]
  },
  {
   "cell_type": "code",
   "execution_count": 50,
   "metadata": {},
   "outputs": [
    {
     "name": "stdout",
     "output_type": "stream",
     "text": [
      "Hava sıcak!\n"
     ]
    }
   ],
   "source": [
    "# IF-ELIF YAPISI\n",
    "sicaklik = 21\n",
    "\n",
    "if(sicaklik >= 25):\n",
    "    print(\"Hava çok sıcak!\")\n",
    "elif(18 <= sicaklik <= 25):\n",
    "    print(\"Hava sıcak!\")\n",
    "else:\n",
    "    print(\"Hava soğuk\")"
   ]
  },
  {
   "cell_type": "code",
   "execution_count": 51,
   "metadata": {},
   "outputs": [
    {
     "name": "stdout",
     "output_type": "stream",
     "text": [
      "mesaj\n"
     ]
    }
   ],
   "source": [
    "# TEK-SATIR IF YAPISI\n",
    "if(True): print(\"mesaj\")"
   ]
  },
  {
   "cell_type": "code",
   "execution_count": 52,
   "metadata": {},
   "outputs": [
    {
     "name": "stdout",
     "output_type": "stream",
     "text": [
      "Notunuz: AA\n"
     ]
    }
   ],
   "source": [
    "final = 95\n",
    "if(final >= 90): print(\"Notunuz: AA\")"
   ]
  },
  {
   "cell_type": "code",
   "execution_count": 53,
   "metadata": {},
   "outputs": [
    {
     "name": "stdout",
     "output_type": "stream",
     "text": [
      "Malesef dersi geçemediniz!\n"
     ]
    }
   ],
   "source": [
    "final = 30\n",
    "if(final >= 45): print(\"Tebrikler, dersi geçtiniz!\")\n",
    "else: print(\"Malesef dersi geçemediniz!\")"
   ]
  },
  {
   "cell_type": "markdown",
   "metadata": {},
   "source": [
    "### While Döngüsü"
   ]
  },
  {
   "cell_type": "raw",
   "metadata": {},
   "source": [
    "# WHILE BOYUNCA, -İKEN DÖNGÜSÜ\n",
    "\n",
    "'''\n",
    "while True:\n",
    "    do this!\n",
    "'''"
   ]
  },
  {
   "cell_type": "code",
   "execution_count": 55,
   "metadata": {},
   "outputs": [
    {
     "name": "stdout",
     "output_type": "stream",
     "text": [
      "1\n",
      "2\n",
      "3\n",
      "4\n",
      "5\n",
      "6\n",
      "7\n",
      "8\n",
      "9\n",
      "10\n"
     ]
    }
   ],
   "source": [
    "i = 1\n",
    "\n",
    "while i<=10:\n",
    "    print(i)\n",
    "    i += 1 "
   ]
  },
  {
   "cell_type": "code",
   "execution_count": 56,
   "metadata": {},
   "outputs": [
    {
     "name": "stdout",
     "output_type": "stream",
     "text": [
      "1\n",
      "4\n",
      "7\n",
      "10\n"
     ]
    }
   ],
   "source": [
    "i=1\n",
    "\n",
    "while i<=10:\n",
    "    print(i)\n",
    "    i += 3 "
   ]
  },
  {
   "cell_type": "code",
   "execution_count": 57,
   "metadata": {},
   "outputs": [
    {
     "name": "stdout",
     "output_type": "stream",
     "text": [
      "1 tek rakamdır\n",
      "2 çift rakamdır\n",
      "3 tek rakamdır\n",
      "4 çift rakamdır\n",
      "5 tek rakamdır\n",
      "6 çift rakamdır\n",
      "7 tek rakamdır\n",
      "8 çift rakamdır\n",
      "9 tek rakamdır\n"
     ]
    }
   ],
   "source": [
    "i=1\n",
    "\n",
    "while i<10:\n",
    "    if(i%2==0): print(i, \"çift rakamdır\")\n",
    "    if(i%2==1): print(i, \"tek rakamdır\")\n",
    "    i += 1"
   ]
  },
  {
   "cell_type": "markdown",
   "metadata": {},
   "source": [
    "### For Döngüsü"
   ]
  },
  {
   "cell_type": "code",
   "execution_count": 58,
   "metadata": {},
   "outputs": [
    {
     "data": {
      "text/plain": [
       "range(0, 5)"
      ]
     },
     "execution_count": 58,
     "metadata": {},
     "output_type": "execute_result"
    }
   ],
   "source": [
    "# RANGE FONKSİYONU\n",
    "range(5)"
   ]
  },
  {
   "cell_type": "code",
   "execution_count": 59,
   "metadata": {},
   "outputs": [
    {
     "data": {
      "text/plain": [
       "range(5, 10)"
      ]
     },
     "execution_count": 59,
     "metadata": {},
     "output_type": "execute_result"
    }
   ],
   "source": [
    "range(5,10)"
   ]
  },
  {
   "cell_type": "code",
   "execution_count": 60,
   "metadata": {},
   "outputs": [
    {
     "data": {
      "text/plain": [
       "range(5, 15, 3)"
      ]
     },
     "execution_count": 60,
     "metadata": {},
     "output_type": "execute_result"
    }
   ],
   "source": [
    "range(5,15,3)"
   ]
  },
  {
   "cell_type": "code",
   "execution_count": 61,
   "metadata": {},
   "outputs": [
    {
     "name": "stdout",
     "output_type": "stream",
     "text": [
      "0\n",
      "1\n",
      "2\n",
      "3\n",
      "4\n"
     ]
    }
   ],
   "source": [
    "for i in range(5):\n",
    "    print(i)"
   ]
  },
  {
   "cell_type": "code",
   "execution_count": 62,
   "metadata": {},
   "outputs": [
    {
     "name": "stdout",
     "output_type": "stream",
     "text": [
      "5\n",
      "6\n",
      "7\n",
      "8\n",
      "9\n"
     ]
    }
   ],
   "source": [
    "for i in range(5,10):\n",
    "    print(i)"
   ]
  },
  {
   "cell_type": "code",
   "execution_count": 63,
   "metadata": {},
   "outputs": [
    {
     "name": "stdout",
     "output_type": "stream",
     "text": [
      "5\n",
      "8\n",
      "11\n",
      "14\n",
      "17\n"
     ]
    }
   ],
   "source": [
    "for i in range(5,20,3):\n",
    "    print(i)"
   ]
  },
  {
   "cell_type": "code",
   "execution_count": 64,
   "metadata": {},
   "outputs": [
    {
     "data": {
      "text/plain": [
       "range(10, 5, -1)"
      ]
     },
     "execution_count": 64,
     "metadata": {},
     "output_type": "execute_result"
    }
   ],
   "source": [
    "# RANGE FONKSİYONUNU TERS ÇALIŞTIRMAK\n",
    "range(10,5,-1)"
   ]
  },
  {
   "cell_type": "code",
   "execution_count": 65,
   "metadata": {},
   "outputs": [
    {
     "name": "stdout",
     "output_type": "stream",
     "text": [
      "10\n",
      "9\n",
      "8\n",
      "7\n",
      "6\n"
     ]
    }
   ],
   "source": [
    "for i in range(10,5,-1):\n",
    "    print(i)"
   ]
  },
  {
   "cell_type": "code",
   "execution_count": 66,
   "metadata": {},
   "outputs": [
    {
     "name": "stdout",
     "output_type": "stream",
     "text": [
      "1 sayısının karesi 1\n",
      "2 sayısının karesi 4\n",
      "3 sayısının karesi 9\n",
      "4 sayısının karesi 16\n",
      "5 sayısının karesi 25\n",
      "6 sayısının karesi 36\n",
      "7 sayısının karesi 49\n",
      "8 sayısının karesi 64\n",
      "9 sayısının karesi 81\n",
      "10 sayısının karesi 100\n"
     ]
    }
   ],
   "source": [
    "for i in range(1,11):\n",
    "    print(i, \"sayısının karesi\", i**2)"
   ]
  },
  {
   "cell_type": "code",
   "execution_count": 67,
   "metadata": {},
   "outputs": [
    {
     "name": "stdout",
     "output_type": "stream",
     "text": [
      "M\n",
      "u\n",
      "s\n",
      "t\n",
      "a\n",
      "f\n",
      "a\n"
     ]
    }
   ],
   "source": [
    "isim = \"Mustafa\"\n",
    "\n",
    "for harf in isim:\n",
    "    print(harf)"
   ]
  },
  {
   "cell_type": "markdown",
   "metadata": {},
   "source": [
    "### Atlama İfadeleri (Break, Continue, Pass)"
   ]
  },
  {
   "cell_type": "code",
   "execution_count": 68,
   "metadata": {},
   "outputs": [
    {
     "name": "stdout",
     "output_type": "stream",
     "text": [
      "Harf uygun!\n",
      "Harf uygun!\n",
      "Harf uygun!\n",
      "Harf uygun!\n",
      "Harf uygun!\n",
      "Harf uygun!\n",
      "Harf uygun!\n"
     ]
    }
   ],
   "source": [
    "# BREAK (KIRMAK)\n",
    "\n",
    "isim = \"Mustafa\"\n",
    "\n",
    "for harf in isim:\n",
    "    if harf in ['İ','ı','ğ', 'ş', 'ö', 'ü']:\n",
    "        break\n",
    "    print(\"Harf uygun!\")"
   ]
  },
  {
   "cell_type": "code",
   "execution_count": 81,
   "metadata": {},
   "outputs": [
    {
     "name": "stdout",
     "output_type": "stream",
     "text": [
      "U harfi uygun\n",
      "ğ harfi uygun değil!\n"
     ]
    }
   ],
   "source": [
    "# Bir kelimede Türkçe harf görünce duran bir akış\n",
    "isim = \"Uğur\"\n",
    "\n",
    "for harf in isim:\n",
    "    if harf in ['İ','ı','ğ', 'ş', 'ö', 'ü']:\n",
    "        print(harf, \"harfi uygun değil!\")\n",
    "        break\n",
    "    print(harf, \"harfi uygun\")"
   ]
  },
  {
   "cell_type": "code",
   "execution_count": 7,
   "metadata": {},
   "outputs": [
    {
     "name": "stdout",
     "output_type": "stream",
     "text": [
      "1\n",
      "2\n",
      "4\n"
     ]
    }
   ],
   "source": [
    "# CONTINUE (DEVAM ETMEK)\n",
    "\n",
    "for i in range(5):\n",
    "    if i%3 == 0:\n",
    "        continue\n",
    "    print(i)"
   ]
  },
  {
   "cell_type": "code",
   "execution_count": 89,
   "metadata": {},
   "outputs": [
    {
     "name": "stdout",
     "output_type": "stream",
     "text": [
      "Bir rakam giriniz: \n",
      "8\n",
      "Hedef rakamı bulamadınız!\n",
      "Bir rakam giriniz: \n",
      "7\n",
      "Hedef rakamı bildiniz!\n"
     ]
    }
   ],
   "source": [
    "# PASS (GEÇMEK)\n",
    "\n",
    "hedef = str(7)\n",
    "\n",
    "while True:\n",
    "    giris = input(\"Bir rakam giriniz: \\n\")\n",
    "    if giris != hedef:\n",
    "        pass\n",
    "        print(\"Hedef rakamı bulamadınız!\")\n",
    "    else:\n",
    "        print(\"Hedef rakamı bildiniz!\")\n",
    "        break"
   ]
  },
  {
   "cell_type": "code",
   "execution_count": 90,
   "metadata": {},
   "outputs": [
    {
     "name": "stdout",
     "output_type": "stream",
     "text": [
      "Bir rakam giriniz: \n",
      "8\n",
      "Bir rakam giriniz: \n",
      "7\n",
      "Hedef rakamı bildiniz!\n"
     ]
    }
   ],
   "source": [
    "# Continue vs. Pass\n",
    "\n",
    "hedef = str(7)\n",
    "\n",
    "while True:\n",
    "    giris = input(\"Bir rakam giriniz: \\n\")\n",
    "    if giris != hedef:\n",
    "        continue\n",
    "        print(\"Hedef rakamı bulamadınız!\") #CONTINUE KENDINDEN SONRAKI SATIRI OKUMAZ!!!\n",
    "    else:\n",
    "        print(\"Hedef rakamı bildiniz!\")\n",
    "        break"
   ]
  }
 ],
 "metadata": {
  "kernelspec": {
   "display_name": "Python 3",
   "language": "python",
   "name": "python3"
  },
  "language_info": {
   "codemirror_mode": {
    "name": "ipython",
    "version": 3
   },
   "file_extension": ".py",
   "mimetype": "text/x-python",
   "name": "python",
   "nbconvert_exporter": "python",
   "pygments_lexer": "ipython3",
   "version": "3.8.3"
  }
 },
 "nbformat": 4,
 "nbformat_minor": 4
}
