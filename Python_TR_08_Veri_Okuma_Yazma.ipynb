{
 "cells": [
  {
   "cell_type": "markdown",
   "metadata": {},
   "source": [
    "## TEMEL PYTHON NOTLARI\n",
    "#### Ugur URESIN, Yapay Zeka Mühendisi | Veri Bilimci\n",
    "#### Mail: uresin.ugur@gmail.com"
   ]
  },
  {
   "cell_type": "markdown",
   "metadata": {},
   "source": [
    "### 08. Veri Okuma Yazma"
   ]
  },
  {
   "cell_type": "markdown",
   "metadata": {},
   "source": [
    "#### Dizin Tanımlama"
   ]
  },
  {
   "cell_type": "code",
   "execution_count": 10,
   "metadata": {},
   "outputs": [
    {
     "ename": "SyntaxError",
     "evalue": "(unicode error) 'unicodeescape' codec can't decode bytes in position 2-3: truncated \\UXXXXXXXX escape (<ipython-input-10-cf87afd04784>, line 1)",
     "output_type": "error",
     "traceback": [
      "\u001b[0;36m  File \u001b[0;32m\"<ipython-input-10-cf87afd04784>\"\u001b[0;36m, line \u001b[0;32m1\u001b[0m\n\u001b[0;31m    ornek_dizin = \"C:\\Users\\nihat\\python\\veriler\\cemal_sureya.txt\"\u001b[0m\n\u001b[0m                  ^\u001b[0m\n\u001b[0;31mSyntaxError\u001b[0m\u001b[0;31m:\u001b[0m (unicode error) 'unicodeescape' codec can't decode bytes in position 2-3: truncated \\UXXXXXXXX escape\n"
     ]
    }
   ],
   "source": [
    "ornek_dizin = \"C:\\Users\\nihat\\python\\veriler\\cemal_sureya.txt\""
   ]
  },
  {
   "cell_type": "code",
   "execution_count": 11,
   "metadata": {},
   "outputs": [],
   "source": [
    "ornek_dizin = r\"C:\\Users\\nihat\\python\\veriler\\cemal_sureya.txt\""
   ]
  },
  {
   "cell_type": "markdown",
   "metadata": {},
   "source": [
    "#### Veri Okuma"
   ]
  },
  {
   "cell_type": "code",
   "execution_count": 12,
   "metadata": {},
   "outputs": [],
   "source": [
    "dosya_dizini = \"/Users/ugururessn/Desktop/myworks/mycourses/udemy-ivbg/19_python_programlama_dili/data/cemal_sureya.txt\""
   ]
  },
  {
   "cell_type": "code",
   "execution_count": 13,
   "metadata": {},
   "outputs": [
    {
     "name": "stdout",
     "output_type": "stream",
     "text": [
      "/Users/ugururessn/Desktop/myworks/mycourses/udemy-ivbg/19_python_programlama_dili/data/cemal_sureya.txt\n"
     ]
    }
   ],
   "source": [
    "print(dosya_dizini)"
   ]
  },
  {
   "cell_type": "code",
   "execution_count": 25,
   "metadata": {},
   "outputs": [],
   "source": [
    "dosya = open(dosya_dizini, mode=\"r\") #r:read\n",
    "dosya.close()"
   ]
  },
  {
   "cell_type": "code",
   "execution_count": 26,
   "metadata": {},
   "outputs": [
    {
     "data": {
      "text/plain": [
       "<_io.TextIOWrapper name='/Users/ugururessn/Desktop/myworks/mycourses/udemy-ivbg/19_python_programlama_dili/data/cemal_sureya.txt' mode='r' encoding='UTF-8'>"
      ]
     },
     "execution_count": 26,
     "metadata": {},
     "output_type": "execute_result"
    }
   ],
   "source": [
    "dosya"
   ]
  },
  {
   "cell_type": "code",
   "execution_count": 20,
   "metadata": {},
   "outputs": [
    {
     "data": {
      "text/plain": [
       "'Aşk....\\nŞair: Cemal Süreya\\n\\nŞimdi sen kalkıp gidiyorsun. Git.\\nGözlerin durur mu onlar da gidiyorlar. Gitsinler.\\nOysa ben senin gözlerinsiz edemem bilirsin\\nOysa Allah bilir bugün iyi uyanmıştık\\nSevgiyeydi ilk açılışı gözlerimizin sırf onaydı\\nBir kuş konmuş parmaklarıma uzun uzun ötmüştü\\nBir sevişmek gelmiş bir daha gitmemişti\\nYoktu dünlerde evvelsi günlerdeki yoksulluğumuz\\nSanki hiç olmamıştı\\n\\nOysa kalbim işte şuracıkta çarpıyordu\\nŞurda senin gözlerindeki bakımsız mavi, güzel laflı İstanbullar\\nŞurda da etin çoğalıyordu dokundukça lafların dünyaların\\nÖyle düzeltici öyle yerine getiriciydi sevmek\\nKi Karakoy köprüsüne yağmur yağarken\\nBıraksalar gökyüzü kendini ikiye bölecekti\\nÇünkü iki kişiydik\\n\\nOysa bir bardak su yetiyordu saçlarını ıslatmaya\\nBir dilim ekmeğin bir iki zeytinin başınaydı doymamız\\nSeni bir kere öpsem ikinin hatırı kalıyordu\\nİki kere öpeyim desem üçün boynu bükük\\nYüzünün bitip vücudunun başladığı yerde\\nMemelerin vardı memelerin kahramandı sonra\\nSonrası iyilik güzellik.'"
      ]
     },
     "execution_count": 20,
     "metadata": {},
     "output_type": "execute_result"
    }
   ],
   "source": [
    "dosya = open(dosya_dizini, mode=\"r\") #r:read\n",
    "dosya.read()\n",
    "dosya.close()"
   ]
  },
  {
   "cell_type": "code",
   "execution_count": 22,
   "metadata": {},
   "outputs": [
    {
     "name": "stdout",
     "output_type": "stream",
     "text": [
      "Aşk....\n",
      "Şair: Cemal Süreya\n",
      "\n",
      "Şimdi sen kalkıp gidiyorsun. Git.\n",
      "Gözlerin durur mu onlar da gidiyorlar. Gitsinler.\n",
      "Oysa ben senin gözlerinsiz edemem bilirsin\n",
      "Oysa Allah bilir bugün iyi uyanmıştık\n",
      "Sevgiyeydi ilk açılışı gözlerimizin sırf onaydı\n",
      "Bir kuş konmuş parmaklarıma uzun uzun ötmüştü\n",
      "Bir sevişmek gelmiş bir daha gitmemişti\n",
      "Yoktu dünlerde evvelsi günlerdeki yoksulluğumuz\n",
      "Sanki hiç olmamıştı\n",
      "\n",
      "Oysa kalbim işte şuracıkta çarpıyordu\n",
      "Şurda senin gözlerindeki bakımsız mavi, güzel laflı İstanbullar\n",
      "Şurda da etin çoğalıyordu dokundukça lafların dünyaların\n",
      "Öyle düzeltici öyle yerine getiriciydi sevmek\n",
      "Ki Karakoy köprüsüne yağmur yağarken\n",
      "Bıraksalar gökyüzü kendini ikiye bölecekti\n",
      "Çünkü iki kişiydik\n",
      "\n",
      "Oysa bir bardak su yetiyordu saçlarını ıslatmaya\n",
      "Bir dilim ekmeğin bir iki zeytinin başınaydı doymamız\n",
      "Seni bir kere öpsem ikinin hatırı kalıyordu\n",
      "İki kere öpeyim desem üçün boynu bükük\n",
      "Yüzünün bitip vücudunun başladığı yerde\n",
      "Memelerin vardı memelerin kahramandı sonra\n",
      "Sonrası iyilik güzellik.\n"
     ]
    }
   ],
   "source": [
    "dosya = open(dosya_dizini, mode=\"r\") #r:read\n",
    "print(dosya.read())\n",
    "dosya.close()"
   ]
  },
  {
   "cell_type": "code",
   "execution_count": 28,
   "metadata": {},
   "outputs": [
    {
     "name": "stdout",
     "output_type": "stream",
     "text": [
      "Aşk....\n",
      "\n"
     ]
    }
   ],
   "source": [
    "dosya = open(dosya_dizini, mode=\"r\") #r:read\n",
    "print(dosya.readline())\n",
    "dosya.close()"
   ]
  },
  {
   "cell_type": "code",
   "execution_count": 30,
   "metadata": {},
   "outputs": [
    {
     "name": "stdout",
     "output_type": "stream",
     "text": [
      "Aşk....\n",
      "\n",
      "Şair: Cemal Süreya\n",
      "\n",
      "\n",
      "\n",
      "Şimdi sen kalkıp gidiyorsun. Git.\n",
      "\n",
      "Gözlerin durur mu onlar da gidiyorlar. Gitsinler.\n",
      "\n",
      "Oysa ben senin gözlerinsiz edemem bilirsin\n",
      "\n",
      "Oysa Allah bilir bugün iyi uyanmıştık\n",
      "\n",
      "Sevgiyeydi ilk açılışı gözlerimizin sırf onaydı\n",
      "\n",
      "Bir kuş konmuş parmaklarıma uzun uzun ötmüştü\n",
      "\n",
      "Bir sevişmek gelmiş bir daha gitmemişti\n",
      "\n",
      "Yoktu dünlerde evvelsi günlerdeki yoksulluğumuz\n",
      "\n",
      "Sanki hiç olmamıştı\n",
      "\n"
     ]
    }
   ],
   "source": [
    "dosya = open(dosya_dizini, mode=\"r\") #r:read\n",
    "for i in range(12):\n",
    "    print(dosya.readline())\n",
    "dosya.close()"
   ]
  },
  {
   "cell_type": "code",
   "execution_count": 31,
   "metadata": {},
   "outputs": [],
   "source": [
    "dosya = open(dosya_dizini, mode=\"r\") #r:read\n",
    "satirlar = dosya.readlines()\n",
    "dosya.close()"
   ]
  },
  {
   "cell_type": "code",
   "execution_count": 32,
   "metadata": {},
   "outputs": [
    {
     "data": {
      "text/plain": [
       "['Aşk....\\n',\n",
       " 'Şair: Cemal Süreya\\n',\n",
       " '\\n',\n",
       " 'Şimdi sen kalkıp gidiyorsun. Git.\\n',\n",
       " 'Gözlerin durur mu onlar da gidiyorlar. Gitsinler.\\n',\n",
       " 'Oysa ben senin gözlerinsiz edemem bilirsin\\n',\n",
       " 'Oysa Allah bilir bugün iyi uyanmıştık\\n',\n",
       " 'Sevgiyeydi ilk açılışı gözlerimizin sırf onaydı\\n',\n",
       " 'Bir kuş konmuş parmaklarıma uzun uzun ötmüştü\\n',\n",
       " 'Bir sevişmek gelmiş bir daha gitmemişti\\n',\n",
       " 'Yoktu dünlerde evvelsi günlerdeki yoksulluğumuz\\n',\n",
       " 'Sanki hiç olmamıştı\\n',\n",
       " '\\n',\n",
       " 'Oysa kalbim işte şuracıkta çarpıyordu\\n',\n",
       " 'Şurda senin gözlerindeki bakımsız mavi, güzel laflı İstanbullar\\n',\n",
       " 'Şurda da etin çoğalıyordu dokundukça lafların dünyaların\\n',\n",
       " 'Öyle düzeltici öyle yerine getiriciydi sevmek\\n',\n",
       " 'Ki Karakoy köprüsüne yağmur yağarken\\n',\n",
       " 'Bıraksalar gökyüzü kendini ikiye bölecekti\\n',\n",
       " 'Çünkü iki kişiydik\\n',\n",
       " '\\n',\n",
       " 'Oysa bir bardak su yetiyordu saçlarını ıslatmaya\\n',\n",
       " 'Bir dilim ekmeğin bir iki zeytinin başınaydı doymamız\\n',\n",
       " 'Seni bir kere öpsem ikinin hatırı kalıyordu\\n',\n",
       " 'İki kere öpeyim desem üçün boynu bükük\\n',\n",
       " 'Yüzünün bitip vücudunun başladığı yerde\\n',\n",
       " 'Memelerin vardı memelerin kahramandı sonra\\n',\n",
       " 'Sonrası iyilik güzellik.']"
      ]
     },
     "execution_count": 32,
     "metadata": {},
     "output_type": "execute_result"
    }
   ],
   "source": [
    "satirlar"
   ]
  },
  {
   "cell_type": "code",
   "execution_count": 34,
   "metadata": {},
   "outputs": [
    {
     "data": {
      "text/plain": [
       "['Aşk....\\n',\n",
       " 'Şair: Cemal Süreya\\n',\n",
       " '\\n',\n",
       " 'Şimdi sen kalkıp gidiyorsun. Git.\\n',\n",
       " 'Gözlerin durur mu onlar da gidiyorlar. Gitsinler.\\n',\n",
       " 'Oysa ben senin gözlerinsiz edemem bilirsin\\n']"
      ]
     },
     "execution_count": 34,
     "metadata": {},
     "output_type": "execute_result"
    }
   ],
   "source": [
    "satirlar[0:6]"
   ]
  },
  {
   "cell_type": "markdown",
   "metadata": {},
   "source": [
    "#### Veriye Ekleme Yapma"
   ]
  },
  {
   "cell_type": "code",
   "execution_count": 37,
   "metadata": {},
   "outputs": [],
   "source": [
    "dosya = open(dosya_dizini, mode=\"a\") #a:append\n",
    "dosya.write(\"\\nEn sevdiğim şiir!\")\n",
    "dosya.close()"
   ]
  },
  {
   "cell_type": "code",
   "execution_count": 38,
   "metadata": {},
   "outputs": [
    {
     "name": "stdout",
     "output_type": "stream",
     "text": [
      "Aşk....\n",
      "Şair: Cemal Süreya\n",
      "\n",
      "Şimdi sen kalkıp gidiyorsun. Git.\n",
      "Gözlerin durur mu onlar da gidiyorlar. Gitsinler.\n",
      "Oysa ben senin gözlerinsiz edemem bilirsin\n",
      "Oysa Allah bilir bugün iyi uyanmıştık\n",
      "Sevgiyeydi ilk açılışı gözlerimizin sırf onaydı\n",
      "Bir kuş konmuş parmaklarıma uzun uzun ötmüştü\n",
      "Bir sevişmek gelmiş bir daha gitmemişti\n",
      "Yoktu dünlerde evvelsi günlerdeki yoksulluğumuz\n",
      "Sanki hiç olmamıştı\n",
      "\n",
      "Oysa kalbim işte şuracıkta çarpıyordu\n",
      "Şurda senin gözlerindeki bakımsız mavi, güzel laflı İstanbullar\n",
      "Şurda da etin çoğalıyordu dokundukça lafların dünyaların\n",
      "Öyle düzeltici öyle yerine getiriciydi sevmek\n",
      "Ki Karakoy köprüsüne yağmur yağarken\n",
      "Bıraksalar gökyüzü kendini ikiye bölecekti\n",
      "Çünkü iki kişiydik\n",
      "\n",
      "Oysa bir bardak su yetiyordu saçlarını ıslatmaya\n",
      "Bir dilim ekmeğin bir iki zeytinin başınaydı doymamız\n",
      "Seni bir kere öpsem ikinin hatırı kalıyordu\n",
      "İki kere öpeyim desem üçün boynu bükük\n",
      "Yüzünün bitip vücudunun başladığı yerde\n",
      "Memelerin vardı memelerin kahramandı sonra\n",
      "Sonrası iyilik güzellik.\n"
     ]
    }
   ],
   "source": [
    "dosya = open(dosya_dizini, mode=\"r\") #r:read\n",
    "print(dosya.read())\n",
    "dosya.close()"
   ]
  },
  {
   "cell_type": "markdown",
   "metadata": {},
   "source": [
    "#### Veriyi Değiştirme"
   ]
  },
  {
   "cell_type": "code",
   "execution_count": 39,
   "metadata": {},
   "outputs": [],
   "source": [
    "dosya = open(dosya_dizini, mode=\"w\") #w:write\n",
    "dosya.write(\"Cemalettin Seber veya tanınan adıyla Cemal Süreya, Türk şair, yazar ve çevirmen.\")\n",
    "dosya.close()"
   ]
  },
  {
   "cell_type": "code",
   "execution_count": 40,
   "metadata": {},
   "outputs": [
    {
     "name": "stdout",
     "output_type": "stream",
     "text": [
      "Cemalettin Seber veya tanınan adıyla Cemal Süreya, Türk şair, yazar ve çevirmen.\n"
     ]
    }
   ],
   "source": [
    "dosya = open(dosya_dizini, mode=\"r\") #r:read\n",
    "print(dosya.read())\n",
    "dosya.close()"
   ]
  },
  {
   "cell_type": "code",
   "execution_count": null,
   "metadata": {},
   "outputs": [],
   "source": []
  }
 ],
 "metadata": {
  "kernelspec": {
   "display_name": "Python 3",
   "language": "python",
   "name": "python3"
  },
  "language_info": {
   "codemirror_mode": {
    "name": "ipython",
    "version": 3
   },
   "file_extension": ".py",
   "mimetype": "text/x-python",
   "name": "python",
   "nbconvert_exporter": "python",
   "pygments_lexer": "ipython3",
   "version": "3.8.3"
  }
 },
 "nbformat": 4,
 "nbformat_minor": 4
}
