{
 "cells": [
  {
   "cell_type": "markdown",
   "metadata": {},
   "source": [
    "## TEMEL PYTHON NOTLARI\n",
    "#### Ugur URESIN, Yapay Zeka Mühendisi | Veri Bilimci\n",
    "#### Mail: uresin.ugur@gmail.com"
   ]
  },
  {
   "cell_type": "markdown",
   "metadata": {},
   "source": [
    "### 11. Nesne Yönelimli Programlama (Object Oriented Programming)"
   ]
  },
  {
   "cell_type": "markdown",
   "metadata": {},
   "source": [
    "### Class (Sınıf) Yaratma"
   ]
  },
  {
   "cell_type": "code",
   "execution_count": 19,
   "metadata": {},
   "outputs": [],
   "source": [
    "class Dikdortgenalan: #sınıf adının ilk harfi büyük olması tercih edilir\n",
    "    def __init__ (self, genislik, yukseklik, maliyet=0): #self zorunlu parametredir\n",
    "        self.gen = genislik\n",
    "        self.yuk = yukseklik\n",
    "        self.mal = maliyet\n",
    "        \n",
    "    def alan_hesapla(self):\n",
    "        return self.gen*self.yuk\n",
    "    \n",
    "    def maliyet_hesapla(self):\n",
    "        alan = self.alan_hesapla()\n",
    "        return alan*self.mal"
   ]
  },
  {
   "cell_type": "markdown",
   "metadata": {},
   "source": [
    "* Class içindeki tüm fonksiyonlarda **ilk parametrenin \"self\"** olması zorunludur!\n",
    "* Her bir objede olması gereken özellikler __init__ içerisinde belirtilir\n",
    "* self ile belirtilen özellikler, parametre ile aynı isimde olabilir\n",
    "    * Örneğin: **self.gen = genislik** yerine **self.genislik = genislik** yazılabilirdi"
   ]
  },
  {
   "cell_type": "markdown",
   "metadata": {},
   "source": [
    "### Object (Nesne) Yaratma"
   ]
  },
  {
   "cell_type": "code",
   "execution_count": 20,
   "metadata": {},
   "outputs": [
    {
     "data": {
      "text/plain": [
       "<__main__.Dikdortgenalan at 0x7fd229fdc1f0>"
      ]
     },
     "execution_count": 20,
     "metadata": {},
     "output_type": "execute_result"
    }
   ],
   "source": [
    "obje1 = Dikdortgenalan(10,100,5)\n",
    "obje1"
   ]
  },
  {
   "cell_type": "code",
   "execution_count": 21,
   "metadata": {},
   "outputs": [
    {
     "data": {
      "text/plain": [
       "1000"
      ]
     },
     "execution_count": 21,
     "metadata": {},
     "output_type": "execute_result"
    }
   ],
   "source": [
    "obje1.alan_hesapla()"
   ]
  },
  {
   "cell_type": "code",
   "execution_count": 22,
   "metadata": {},
   "outputs": [
    {
     "data": {
      "text/plain": [
       "5000"
      ]
     },
     "execution_count": 22,
     "metadata": {},
     "output_type": "execute_result"
    }
   ],
   "source": [
    "obje1.maliyet_hesapla()"
   ]
  },
  {
   "cell_type": "markdown",
   "metadata": {},
   "source": [
    "#### Nesnedeki değerleri değiştirme"
   ]
  },
  {
   "cell_type": "code",
   "execution_count": 11,
   "metadata": {},
   "outputs": [],
   "source": [
    "obje1.genislik=20"
   ]
  },
  {
   "cell_type": "code",
   "execution_count": 14,
   "metadata": {},
   "outputs": [
    {
     "name": "stdout",
     "output_type": "stream",
     "text": [
      "Obje1 icin alan: 2000\n",
      "Obje1 icin maliyet: 10000\n"
     ]
    }
   ],
   "source": [
    "print(\"Obje1 icin alan:\", obje1.alan_hesapla())\n",
    "print(\"Obje1 icin maliyet:\", obje1.maliyet_hesapla())"
   ]
  }
 ],
 "metadata": {
  "kernelspec": {
   "display_name": "Python 3",
   "language": "python",
   "name": "python3"
  },
  "language_info": {
   "codemirror_mode": {
    "name": "ipython",
    "version": 3
   },
   "file_extension": ".py",
   "mimetype": "text/x-python",
   "name": "python",
   "nbconvert_exporter": "python",
   "pygments_lexer": "ipython3",
   "version": "3.8.3"
  }
 },
 "nbformat": 4,
 "nbformat_minor": 4
}
